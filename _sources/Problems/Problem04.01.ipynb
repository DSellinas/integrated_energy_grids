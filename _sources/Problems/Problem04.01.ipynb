{
 "cells": [
  {
   "cell_type": "markdown",
   "metadata": {},
   "source": [
    "# Problem 4.1"
   ]
  },
  {
   "cell_type": "markdown",
   "metadata": {},
   "source": [
    "**Integrated Energy Grids**\n",
    "\n",
    "**Problem 4.1**\n",
    "\n",
    "**This is a continuation of Problem 3.2 from Lecture 3:\n",
    "Let us assume now that we are in an hour with an excess of wind generation in Denmark and a deficit in other countries so that the power injection $P_i$ of the different countries is as follows: Germany= - 200 MW, DK1=500 MW, DK2=600 MW, Norway = - 800 MW, Sweden = -100 MW.**\n",
    "\n",
    "**Determine the voltage angles $\\theta_i$  and the flows $P_l$ in the lines of the network. Assume that $\\theta_0$=0; i.e. the reference bus is at node 0 (Germany); and the reactance in all links are $x_l$=1.**\n"
   ]
  },
  {
   "cell_type": "markdown",
   "metadata": {},
   "source": [
    "We will use the package [numpy](https://numpy.org/) to operate with matrices."
   ]
  },
  {
   "cell_type": "code",
   "execution_count": 49,
   "metadata": {},
   "outputs": [],
   "source": [
    "import numpy as np\n",
    "import numpy.linalg"
   ]
  },
  {
   "cell_type": "markdown",
   "metadata": {},
   "source": [
    "Calculate list of nodes, links, degree, adjacency and Laplacian matrix. (this was already implemented in Problem 3.2)"
   ]
  },
  {
   "cell_type": "code",
   "execution_count": 50,
   "metadata": {},
   "outputs": [],
   "source": [
    "nodes=[0,1,2,3,4]\n",
    "links=[(0,1), (1,2), (1,3), (1,4), (2,4)]"
   ]
  },
  {
   "cell_type": "code",
   "execution_count": 51,
   "metadata": {},
   "outputs": [],
   "source": [
    "D = np.zeros((len(nodes), len(nodes)))\n",
    "\n",
    "for node in nodes:\n",
    "    D[node, node] = sum([1 if node in link else 0 for link in links])"
   ]
  },
  {
   "cell_type": "code",
   "execution_count": 52,
   "metadata": {},
   "outputs": [],
   "source": [
    "A = np.zeros((len(nodes), len(nodes)))\n",
    "\n",
    "for node_a, node_b in links:\n",
    "    A[node_a, node_b] = 1\n",
    "    A[node_b, node_a] = 1\n"
   ]
  },
  {
   "cell_type": "code",
   "execution_count": 53,
   "metadata": {},
   "outputs": [
    {
     "data": {
      "text/plain": [
       "array([[ 1., -1.,  0.,  0.,  0.],\n",
       "       [-1.,  4., -1., -1., -1.],\n",
       "       [ 0., -1.,  2.,  0., -1.],\n",
       "       [ 0., -1.,  0.,  1.,  0.],\n",
       "       [ 0., -1., -1.,  0.,  2.]])"
      ]
     },
     "execution_count": 53,
     "metadata": {},
     "output_type": "execute_result"
    }
   ],
   "source": [
    "L = D - A\n",
    "L"
   ]
  },
  {
   "cell_type": "code",
   "execution_count": 54,
   "metadata": {},
   "outputs": [
    {
     "data": {
      "text/plain": [
       "array([[ 1.,  0.,  0.,  0.,  0.],\n",
       "       [-1.,  1.,  1.,  1.,  0.],\n",
       "       [ 0., -1.,  0.,  0.,  1.],\n",
       "       [ 0.,  0., -1.,  0.,  0.],\n",
       "       [ 0.,  0.,  0., -1., -1.]])"
      ]
     },
     "execution_count": 54,
     "metadata": {},
     "output_type": "execute_result"
    }
   ],
   "source": [
    "K = np.zeros((len(nodes),len(links)))\n",
    "\n",
    "for i, (node_a, node_b) in enumerate(links):\n",
    "    K[node_a,i] = 1\n",
    "    K[node_b,i] = -1\n",
    "    \n",
    "K"
   ]
  },
  {
   "cell_type": "markdown",
   "metadata": {},
   "source": [
    "**Power flow analysis**\n",
    "\n",
    "We know the power injection pattern for the nodes $P_i$ and we want to determine the power flows $P_l$ in the lines of the network\n",
    "\n"
   ]
  },
  {
   "cell_type": "markdown",
   "metadata": {},
   "source": [
    "The reactance in every link is $x_l$=1 so $L_{ij}=\\sum_{l} K_{il} \\frac{1}{x_l}K_{lj}=\\sum_{l} K_{il} K_{lj}$ or  $L_{ij}=D_{ij}-A_{i,j}$"
   ]
  },
  {
   "cell_type": "markdown",
   "metadata": {},
   "source": [
    "First, we calculate the voltage angles, by solving the set of linear equations.\n",
    "$P_i=\\sum L_{i,j} \\theta_j$\n"
   ]
  },
  {
   "cell_type": "code",
   "execution_count": 55,
   "metadata": {},
   "outputs": [],
   "source": [
    "P_i =[-200, 500, 600, -800, -100]"
   ]
  },
  {
   "cell_type": "markdown",
   "metadata": {},
   "source": [
    "The node 0 (Germany) is the slack bus, so $\\theta_0$=0."
   ]
  },
  {
   "cell_type": "code",
   "execution_count": 56,
   "metadata": {},
   "outputs": [
    {
     "data": {
      "text/plain": [
       "array([   0.        ,  200.        ,  566.66666667, -600.        ,\n",
       "        333.33333333])"
      ]
     },
     "execution_count": 56,
     "metadata": {},
     "output_type": "execute_result"
    }
   ],
   "source": [
    "theta = np.r_[0, np.linalg.solve(L[1:,1:], P_i[1:])]\n",
    "theta"
   ]
  },
  {
   "cell_type": "markdown",
   "metadata": {},
   "source": [
    "Second, we use the voltage angles to compute the flows.\n",
    "\n",
    "$P_l=\\frac{1}{x_l}\\sum_{j}K_{lj}\\theta_j$"
   ]
  },
  {
   "cell_type": "code",
   "execution_count": 57,
   "metadata": {},
   "outputs": [
    {
     "data": {
      "text/plain": [
       "array([-200.        , -366.66666667,  800.        , -133.33333333,\n",
       "        233.33333333])"
      ]
     },
     "execution_count": 57,
     "metadata": {},
     "output_type": "execute_result"
    }
   ],
   "source": [
    "P_l= K.T.dot(theta)\n",
    "P_l"
   ]
  },
  {
   "cell_type": "markdown",
   "metadata": {},
   "source": [
    "**Additional discussion on the inversion of the Laplacian matrix**\n",
    "\n",
    "The Laplacian matrix is not invertible because it has one zero eigenvalue with eigenvector (1,1,1,1,1). \n",
    "\n",
    "We can only invert a matrix if it is non-singular, i.e., the determinant should not be zero. \n",
    "\n",
    "You can also check that the rank of the matrix is 4 but the matrix has 5 columns, so the determinant is zero and we can not find the inverse\n"
   ]
  },
  {
   "cell_type": "code",
   "execution_count": 58,
   "metadata": {},
   "outputs": [
    {
     "data": {
      "text/plain": [
       "4"
      ]
     },
     "execution_count": 58,
     "metadata": {},
     "output_type": "execute_result"
    }
   ],
   "source": [
    "np.linalg.matrix_rank(L)"
   ]
  },
  {
   "cell_type": "markdown",
   "metadata": {},
   "source": [
    "Instead of selecting Germany as the slack bus, we could have used the [Moore Penrose pseudo-inverse](https://en.wikipedia.org/wiki/Moore%E2%80%93Penrose_inverse) to invert the Laplacian. \n",
    "\n",
    "In this case, we don't get bus zero as slack and the theta values in the solution are shifted with respect to the previous solution, but we get the same results for the power flows.  "
   ]
  },
  {
   "cell_type": "code",
   "execution_count": 59,
   "metadata": {},
   "outputs": [
    {
     "data": {
      "text/plain": [
       "array([-100.        ,  100.        ,  466.66666667, -700.        ,\n",
       "        233.33333333])"
      ]
     },
     "execution_count": 59,
     "metadata": {},
     "output_type": "execute_result"
    }
   ],
   "source": [
    "theta_ = np.linalg.pinv(L).dot(P_i)\n",
    "theta_"
   ]
  },
  {
   "cell_type": "code",
   "execution_count": 61,
   "metadata": {},
   "outputs": [
    {
     "data": {
      "text/plain": [
       "array([-200.        , -366.66666667,  800.        , -133.33333333,\n",
       "        233.33333333])"
      ]
     },
     "execution_count": 61,
     "metadata": {},
     "output_type": "execute_result"
    }
   ],
   "source": [
    "P_l= K.T.dot(theta_)\n",
    "P_l"
   ]
  },
  {
   "cell_type": "markdown",
   "metadata": {},
   "source": [
    "**Additional discussion on the magnitude of theta**\n",
    "\n",
    "For the sake of simplicity, in this problem, we are indicating the power injection in MW (instead of in per unit) which causes $\\theta$ not to be expressed in radians."
   ]
  },
  {
   "cell_type": "code",
   "execution_count": null,
   "metadata": {},
   "outputs": [],
   "source": []
  }
 ],
 "metadata": {
  "kernelspec": {
   "display_name": "Python 3 (ipykernel)",
   "language": "python",
   "name": "python3"
  },
  "language_info": {
   "codemirror_mode": {
    "name": "ipython",
    "version": 3
   },
   "file_extension": ".py",
   "mimetype": "text/x-python",
   "name": "python",
   "nbconvert_exporter": "python",
   "pygments_lexer": "ipython3",
   "version": "3.12.8"
  }
 },
 "nbformat": 4,
 "nbformat_minor": 4
}
