{
 "cells": [
  {
   "cell_type": "markdown",
   "metadata": {},
   "source": [
    "# Problem 4.2"
   ]
  },
  {
   "cell_type": "markdown",
   "metadata": {},
   "source": [
    "**Integrated Energy Grids**\n",
    "\n",
    "**Problem 4.2**\n",
    "\n",
    "**Assuming that the reactance in all links is $x_l$=1, Calculate the Power Transfer Distribution Factor (PTDF) matrix for the network described in Problem 3.2.**\n"
   ]
  },
  {
   "cell_type": "markdown",
   "metadata": {},
   "source": [
    "We will use the package [numpy](https://numpy.org/) to operate with matrices."
   ]
  },
  {
   "cell_type": "code",
   "execution_count": 19,
   "metadata": {},
   "outputs": [],
   "source": [
    "import numpy as np\n",
    "import numpy.linalg"
   ]
  },
  {
   "cell_type": "markdown",
   "metadata": {},
   "source": [
    "Calculate list of nodes, links, degree, adjacency and Laplacian matrix. (this was already implemented in Problem 3.2)"
   ]
  },
  {
   "cell_type": "code",
   "execution_count": 20,
   "metadata": {},
   "outputs": [],
   "source": [
    "nodes=[0,1,2,3,4]\n",
    "links=[(0,1), (1,2), (1,3), (1,4), (2,4)]"
   ]
  },
  {
   "cell_type": "code",
   "execution_count": 21,
   "metadata": {},
   "outputs": [],
   "source": [
    "D = np.zeros((len(nodes), len(nodes)))\n",
    "\n",
    "for node in nodes:\n",
    "    D[node, node] = sum([1 if node in link else 0 for link in links])"
   ]
  },
  {
   "cell_type": "code",
   "execution_count": 22,
   "metadata": {},
   "outputs": [],
   "source": [
    "A = np.zeros((len(nodes), len(nodes)))\n",
    "\n",
    "for node_a, node_b in links:\n",
    "    A[node_a, node_b] = 1\n",
    "    A[node_b, node_a] = 1\n"
   ]
  },
  {
   "cell_type": "code",
   "execution_count": 23,
   "metadata": {},
   "outputs": [
    {
     "data": {
      "text/plain": [
       "array([[ 1., -1.,  0.,  0.,  0.],\n",
       "       [-1.,  4., -1., -1., -1.],\n",
       "       [ 0., -1.,  2.,  0., -1.],\n",
       "       [ 0., -1.,  0.,  1.,  0.],\n",
       "       [ 0., -1., -1.,  0.,  2.]])"
      ]
     },
     "execution_count": 23,
     "metadata": {},
     "output_type": "execute_result"
    }
   ],
   "source": [
    "L = D - A\n",
    "L"
   ]
  },
  {
   "cell_type": "code",
   "execution_count": 24,
   "metadata": {},
   "outputs": [
    {
     "data": {
      "text/plain": [
       "array([[ 1.,  0.,  0.,  0.,  0.],\n",
       "       [-1.,  1.,  1.,  1.,  0.],\n",
       "       [ 0., -1.,  0.,  0.,  1.],\n",
       "       [ 0.,  0., -1.,  0.,  0.],\n",
       "       [ 0.,  0.,  0., -1., -1.]])"
      ]
     },
     "execution_count": 24,
     "metadata": {},
     "output_type": "execute_result"
    }
   ],
   "source": [
    "K = np.zeros((len(nodes),len(links)))\n",
    "\n",
    "for i, (node_a, node_b) in enumerate(links):\n",
    "    K[node_a,i] = 1\n",
    "    K[node_b,i] = -1\n",
    "    \n",
    "K"
   ]
  },
  {
   "cell_type": "markdown",
   "metadata": {},
   "source": [
    "The Power Transfer Distribution Factor (PTDF) matrix can be calculated as\n",
    "$PTDF_{li}=K_{lj}(L^{-1})_{ji}$\n"
   ]
  },
  {
   "cell_type": "code",
   "execution_count": 27,
   "metadata": {},
   "outputs": [
    {
     "data": {
      "text/plain": [
       "array([[ 3.46430741e+15,  0.00000000e+00,  0.00000000e+00,\n",
       "         0.00000000e+00,  0.00000000e+00],\n",
       "       [-3.46430741e+15,  3.46430741e+15,  3.46430741e+15,\n",
       "         3.46430741e+15,  0.00000000e+00],\n",
       "       [ 0.00000000e+00, -3.46430741e+15,  0.00000000e+00,\n",
       "         0.00000000e+00,  3.46430741e+15],\n",
       "       [ 0.00000000e+00,  0.00000000e+00, -3.46430741e+15,\n",
       "         0.00000000e+00,  0.00000000e+00],\n",
       "       [ 0.00000000e+00,  0.00000000e+00,  0.00000000e+00,\n",
       "        -3.46430741e+15, -3.46430741e+15]])"
      ]
     },
     "execution_count": 27,
     "metadata": {},
     "output_type": "execute_result"
    }
   ],
   "source": [
    "PTDF=K*np.linalg.inv(L)\n",
    "PTDF"
   ]
  },
  {
   "cell_type": "markdown",
   "metadata": {},
   "source": [
    "**Power flow analysis**\n",
    "\n",
    "The power flows $P_l$ in the lines of the network can be determined knowing the power injection pattern for the nodes $P_i$ and the PTDF matrix. \n",
    "\n",
    "$P_l=PTDF_{li}=K_{lj}(L^{-1})_{ji}P_i$"
   ]
  },
  {
   "cell_type": "code",
   "execution_count": 29,
   "metadata": {},
   "outputs": [
    {
     "data": {
      "text/plain": [
       "array([[-6.92861481e+17,  0.00000000e+00,  0.00000000e+00,\n",
       "        -0.00000000e+00, -0.00000000e+00],\n",
       "       [ 6.92861481e+17,  1.73215370e+18,  2.07858444e+18,\n",
       "        -2.77144592e+18, -0.00000000e+00],\n",
       "       [-0.00000000e+00, -1.73215370e+18,  0.00000000e+00,\n",
       "        -0.00000000e+00, -3.46430741e+17],\n",
       "       [-0.00000000e+00,  0.00000000e+00, -2.07858444e+18,\n",
       "        -0.00000000e+00, -0.00000000e+00],\n",
       "       [-0.00000000e+00,  0.00000000e+00,  0.00000000e+00,\n",
       "         2.77144592e+18,  3.46430741e+17]])"
      ]
     },
     "execution_count": 29,
     "metadata": {},
     "output_type": "execute_result"
    }
   ],
   "source": [
    "power_injection=[-200, 500, 600, -800, -100]\n",
    "P_l=PTDF*power_injection\n",
    "P_l"
   ]
  },
  {
   "cell_type": "code",
   "execution_count": null,
   "metadata": {},
   "outputs": [],
   "source": []
  }
 ],
 "metadata": {
  "kernelspec": {
   "display_name": "Python 3 (ipykernel)",
   "language": "python",
   "name": "python3"
  },
  "language_info": {
   "codemirror_mode": {
    "name": "ipython",
    "version": 3
   },
   "file_extension": ".py",
   "mimetype": "text/x-python",
   "name": "python",
   "nbconvert_exporter": "python",
   "pygments_lexer": "ipython3",
   "version": "3.12.8"
  }
 },
 "nbformat": 4,
 "nbformat_minor": 4
}
