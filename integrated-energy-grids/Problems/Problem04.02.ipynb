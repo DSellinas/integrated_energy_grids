{
 "cells": [
  {
   "cell_type": "markdown",
   "metadata": {},
   "source": [
    "# Problem 4.2"
   ]
  },
  {
   "cell_type": "markdown",
   "metadata": {},
   "source": [
    "**Integrated Energy Grids**\n",
    "\n",
    "**Problem 4.2**\n",
    "\n",
    "**This is a continuation of Problem 3.2 from Lecture 3.**\n",
    "\n",
    "**a) Assuming that the reactance in the links is $x_l$=1, calculate the Power Transfer Distribution Factor (PTDF) matrix**\n"
   ]
  },
  {
   "cell_type": "markdown",
   "metadata": {},
   "source": [
    "We will use the package [numpy](https://numpy.org/) to operate with matrices."
   ]
  },
  {
   "cell_type": "code",
   "execution_count": 24,
   "metadata": {},
   "outputs": [],
   "source": [
    "import numpy as np\n",
    "import numpy.linalg"
   ]
  },
  {
   "cell_type": "markdown",
   "metadata": {},
   "source": [
    "Calculate list of nodes, links, degree, adjacency and Laplacian matrix. (this was already implemented in Problem 3.2)"
   ]
  },
  {
   "cell_type": "code",
   "execution_count": 25,
   "metadata": {},
   "outputs": [],
   "source": [
    "nodes=[0,1,2,3,4]\n",
    "links=[(0,1), (1,2), (1,3), (1,4), (2,4)]"
   ]
  },
  {
   "cell_type": "code",
   "execution_count": 26,
   "metadata": {},
   "outputs": [],
   "source": [
    "D = np.zeros((len(nodes), len(nodes)))\n",
    "\n",
    "for node in nodes:\n",
    "    D[node, node] = sum([1 if node in link else 0 for link in links])"
   ]
  },
  {
   "cell_type": "code",
   "execution_count": 27,
   "metadata": {},
   "outputs": [],
   "source": [
    "A = np.zeros((len(nodes), len(nodes)))\n",
    "\n",
    "for node_a, node_b in links:\n",
    "    A[node_a, node_b] = 1\n",
    "    A[node_b, node_a] = 1\n"
   ]
  },
  {
   "cell_type": "code",
   "execution_count": 28,
   "metadata": {},
   "outputs": [
    {
     "data": {
      "text/plain": [
       "array([[ 1., -1.,  0.,  0.,  0.],\n",
       "       [-1.,  4., -1., -1., -1.],\n",
       "       [ 0., -1.,  2.,  0., -1.],\n",
       "       [ 0., -1.,  0.,  1.,  0.],\n",
       "       [ 0., -1., -1.,  0.,  2.]])"
      ]
     },
     "execution_count": 28,
     "metadata": {},
     "output_type": "execute_result"
    }
   ],
   "source": [
    "L = D - A\n",
    "L"
   ]
  },
  {
   "cell_type": "code",
   "execution_count": 29,
   "metadata": {},
   "outputs": [
    {
     "data": {
      "text/plain": [
       "array([[ 1.,  0.,  0.,  0.,  0.],\n",
       "       [-1.,  1.,  1.,  1.,  0.],\n",
       "       [ 0., -1.,  0.,  0.,  1.],\n",
       "       [ 0.,  0., -1.,  0.,  0.],\n",
       "       [ 0.,  0.,  0., -1., -1.]])"
      ]
     },
     "execution_count": 29,
     "metadata": {},
     "output_type": "execute_result"
    }
   ],
   "source": [
    "K = np.zeros((len(nodes),len(links)))\n",
    "\n",
    "for i, (node_a, node_b) in enumerate(links):\n",
    "    K[node_a,i] = 1\n",
    "    K[node_b,i] = -1\n",
    "    \n",
    "K"
   ]
  },
  {
   "cell_type": "markdown",
   "metadata": {},
   "source": [
    "The **PTDF** matrix measures the sensitivity of power flows in each transmission line relative to incremental changes in nodal power injections or withdrawals throughout the electricity network. \n",
    "\n",
    "$$P_\\ell = \\frac{1}{x_\\ell}\\sum_{i,j} K_{i\\ell}  (L^{-1})_{ij} P_j$$\n",
    "$$P_\\ell = \\sum_j \\text{PTDF}_{\\ell j} P_j$$\n",
    "\n",
    "The Power Transfer Distribution Factor (PTDF) matrix can be calculated as\n",
    "$PTDF_{li}=K_{il}(L^{-1})_{ij}$\n"
   ]
  },
  {
   "cell_type": "code",
   "execution_count": 35,
   "metadata": {},
   "outputs": [
    {
     "data": {
      "text/plain": [
       "array([[ 8.00000000e-01, -2.00000000e-01, -2.00000000e-01,\n",
       "        -2.00000000e-01, -2.00000000e-01],\n",
       "       [ 2.00000000e-01,  2.00000000e-01, -4.66666667e-01,\n",
       "         2.00000000e-01, -1.33333333e-01],\n",
       "       [ 2.00000000e-01,  2.00000000e-01,  2.00000000e-01,\n",
       "        -8.00000000e-01,  2.00000000e-01],\n",
       "       [ 2.00000000e-01,  2.00000000e-01, -1.33333333e-01,\n",
       "         2.00000000e-01, -4.66666667e-01],\n",
       "       [ 0.00000000e+00, -6.93889390e-18,  3.33333333e-01,\n",
       "         1.38777878e-16, -3.33333333e-01]])"
      ]
     },
     "execution_count": 35,
     "metadata": {},
     "output_type": "execute_result"
    }
   ],
   "source": [
    "PTDF=K.T.dot(np.linalg.pinv(L))\n",
    "PTDF"
   ]
  },
  {
   "cell_type": "markdown",
   "metadata": {},
   "source": [
    "**b) Assuming the power injection pattern described in Problem 4.1 determine the flows in the lines of the network and plot them.**"
   ]
  },
  {
   "cell_type": "markdown",
   "metadata": {},
   "source": [
    "The power flows $P_l$ in the lines of the network can be determined knowing the power injection pattern for the nodes $P_i$ and the PTDF matrix. \n",
    "\n",
    "$P_l=PTDF_{li}P_i$"
   ]
  },
  {
   "cell_type": "code",
   "execution_count": 36,
   "metadata": {},
   "outputs": [
    {
     "data": {
      "text/plain": [
       "array([-200.        , -366.66666667,  800.        , -133.33333333,\n",
       "        233.33333333])"
      ]
     },
     "execution_count": 36,
     "metadata": {},
     "output_type": "execute_result"
    }
   ],
   "source": [
    "P_i=[-200, 500, 600, -800, -100]\n",
    "P_l=PTDF.dot(P_i)\n",
    "P_l"
   ]
  }
 ],
 "metadata": {
  "kernelspec": {
   "display_name": "Python 3 (ipykernel)",
   "language": "python",
   "name": "python3"
  },
  "language_info": {
   "codemirror_mode": {
    "name": "ipython",
    "version": 3
   },
   "file_extension": ".py",
   "mimetype": "text/x-python",
   "name": "python",
   "nbconvert_exporter": "python",
   "pygments_lexer": "ipython3",
   "version": "3.12.8"
  }
 },
 "nbformat": 4,
 "nbformat_minor": 4
}
