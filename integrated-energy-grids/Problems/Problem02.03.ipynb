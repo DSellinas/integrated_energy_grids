{
 "cells": [
  {
   "cell_type": "markdown",
   "metadata": {},
   "source": [
    "**Integrated Energy Grids**\n",
    "\n",
    "\n",
    "**Problem 2.3**"
   ]
  },
  {
   "cell_type": "markdown",
   "metadata": {},
   "source": [
    "**We assume the system from Problem 2.2.**\n",
    "\n",
    "\n",
    "**a) Another system that is connected to ours --- assuming copper-plate --- decides dispatch just before we do and can export utility solar. The results from that dispatch optimization are saved in [problem2_3a](./data/problem2_3a.csv). Create a time series of available imports and their price.**\n",
    "**b) Solve the updated problem with the available imports. Think of the imports as a generator with variable, marginal prices corresponding to the dual variables.**"
   ]
  },
  {
   "cell_type": "markdown",
   "metadata": {},
   "source": [
    "We will use numpy to operate with arrays and matplotlib.pyplot to plot the results. We also use linopy to solve linear problems and work with pandas to work with dataframes."
   ]
  },
  {
   "cell_type": "code",
   "execution_count": 1,
   "metadata": {},
   "outputs": [],
   "source": [
    "import pandas as pd\n",
    "import numpy as np\n",
    "import linopy \n",
    "import matplotlib.pyplot as plt"
   ]
  },
  {
   "cell_type": "markdown",
   "metadata": {},
   "source": [
    "a)"
   ]
  },
  {
   "cell_type": "markdown",
   "metadata": {},
   "source": [
    "Load the data for Problem 3a and also 2c to recreate the system from Problem 2c."
   ]
  },
  {
   "cell_type": "code",
   "execution_count": 2,
   "metadata": {},
   "outputs": [],
   "source": [
    "problem2c = pd.read_csv(\"./data/problem2_2c.csv\", index_col=0, parse_dates=True)\n",
    "\n",
    "problem3a = pd.read_csv(\"./data/problem2_3a.csv\", index_col=0, parse_dates=True)\n",
    "import_potential = problem3a[\"utility_solar_potential\"] - problem3a[\"solution.utility_solar\"]\n",
    "import_prices = problem3a[\"dual.energy_balance\"]"
   ]
  },
  {
   "cell_type": "markdown",
   "metadata": {},
   "source": [
    "Plot import prices and the import potential"
   ]
  },
  {
   "cell_type": "code",
   "execution_count": 3,
   "metadata": {},
   "outputs": [
    {
     "data": {
      "text/plain": [
       "<matplotlib.legend.Legend at 0x14fe92330>"
      ]
     },
     "execution_count": 3,
     "metadata": {},
     "output_type": "execute_result"
    },
    {
     "data": {
      "image/png": "[encoded data removed]",
      "text/plain": [
       "<Figure size 640x480 with 2 Axes>"
      ]
     },
     "metadata": {},
     "output_type": "display_data"
    }
   ],
   "source": [
    "fig, ax = plt.subplots(2,1)\n",
    "\n",
    "ax[0].plot(import_potential, label=\"Import potential\")\n",
    "ax[1].plot(import_prices, label=\"Import prices\")\n",
    "\n",
    "ax[0].legend()\n",
    "ax[1].legend()\n"
   ]
  },
  {
   "cell_type": "markdown",
   "metadata": {},
   "source": [
    "b)"
   ]
  },
  {
   "cell_type": "markdown",
   "metadata": {},
   "source": [
    "Define the system as before."
   ]
  },
  {
   "cell_type": "code",
   "execution_count": 4,
   "metadata": {},
   "outputs": [],
   "source": [
    "# Installed capacities\n",
    "wind = 15\n",
    "solar = 20\n",
    "gas = 20\n",
    "\n",
    "# Marginal costs (for solar and wind 0)\n",
    "cost_gas = 60\n",
    "\n"
   ]
  },
  {
   "cell_type": "markdown",
   "metadata": {},
   "source": [
    "Set up the model."
   ]
  },
  {
   "cell_type": "code",
   "execution_count": 5,
   "metadata": {},
   "outputs": [
    {
     "name": "stdout",
     "output_type": "stream",
     "text": [
      "Set parameter Username\n",
      "Set parameter LicenseID to value 2609678\n",
      "Academic license - for non-commercial use only - expires 2026-01-14\n",
      "Read LP format model from file /private/var/folders/zg/by4_k0616s98pw41wld9475c0000gp/T/linopy-problem-vkmgymry.lp\n",
      "Reading time = 0.01 seconds\n",
      "obj: 168 rows, 96 columns, 240 nonzeros\n",
      "Gurobi Optimizer version 12.0.0 build v12.0.0rc1 (mac64[arm] - Darwin 24.2.0 24C101)\n",
      "\n",
      "CPU model: Apple M3\n",
      "Thread count: 8 physical cores, 8 logical processors, using up to 8 threads\n",
      "\n",
      "Optimize a model with 168 rows, 96 columns and 240 nonzeros\n",
      "Model fingerprint: 0xd03b19b6\n",
      "Coefficient statistics:\n",
      "  Matrix range     [1e+00, 1e+00]\n",
      "  Objective range  [1e+00, 6e+01]\n",
      "  Bounds range     [0e+00, 0e+00]\n",
      "  RHS range        [4e-16, 2e+01]\n",
      "Presolve removed 167 rows and 93 columns\n",
      "Presolve time: 0.00s\n",
      "Presolved: 1 rows, 3 columns, 3 nonzeros\n",
      "\n",
      "Iteration    Objective       Primal Inf.    Dual Inf.      Time\n",
      "       0    7.5035000e+03   1.350000e+00   0.000000e+00      0s\n",
      "       1    7.5062000e+03   0.000000e+00   0.000000e+00      0s\n",
      "\n",
      "Solved in 1 iterations and 0.00 seconds (0.00 work units)\n",
      "Optimal objective  7.506200000e+03\n"
     ]
    },
    {
     "data": {
      "text/plain": [
       "('ok', 'optimal')"
      ]
     },
     "execution_count": 5,
     "metadata": {},
     "output_type": "execute_result"
    }
   ],
   "source": [
    "m3b = linopy.Model()\n",
    "\n",
    "time = problem3a.index\n",
    "\n",
    "x_w = m3b.add_variables(lower=0,name=\"wind\", coords=[time])\n",
    "x_s = m3b.add_variables(lower=0,name=\"solar\", coords=[time])\n",
    "x_g = m3b.add_variables(lower=0,name=\"gas\", coords=[time])\n",
    "x_i = m3b.add_variables(lower=0,name=\"imports\", coords=[time])\n",
    "\n",
    "# Define constraints\n",
    "m3b.add_constraints(x_w + x_s + x_g + x_i == problem2c[\"demand [MWh]\"], name=\"energy_balance\")\n",
    "m3b.add_constraints(x_g <= gas, name=\"gas_cap\")\n",
    "\n",
    "m3b.add_constraints(x_w <= wind * problem2c[\"wind cf\"], name=\"wind_cf\")\n",
    "m3b.add_constraints(x_s <= solar * problem2c[\"solar cf\"], name=\"solar_cf\")\n",
    "m3b.add_constraints(x_i <= import_potential, name=\"import_cap\")\n",
    "\n",
    "# Optional:\n",
    "m3b.add_constraints(x_w <= wind, name=\"wind_cap\")\n",
    "m3b.add_constraints(x_s <= solar, name=\"solar_cap\")\n",
    "\n",
    "# Objective\n",
    "m3b.add_objective(cost_gas*x_g + import_prices.values*x_i, sense = \"min\")\n",
    "\n",
    "# Solve\n",
    "m3b.solve(solver_name=\"gurobi\")"
   ]
  },
  {
   "cell_type": "markdown",
   "metadata": {},
   "source": [
    "Plot the solution, and print objective value and stats about the electricity price (dual to energy balance)"
   ]
  },
  {
   "cell_type": "code",
   "execution_count": 6,
   "metadata": {},
   "outputs": [
    {
     "data": {
      "text/plain": [
       "<Axes: xlabel='dim_0'>"
      ]
     },
     "execution_count": 6,
     "metadata": {},
     "output_type": "execute_result"
    },
    {
     "data": {
      "image/png": "[encoded data removed]",
      "text/plain": [
       "<Figure size 640x480 with 1 Axes>"
      ]
     },
     "metadata": {},
     "output_type": "display_data"
    }
   ],
   "source": [
    "m3b.solution.to_dataframe().plot()"
   ]
  },
  {
   "cell_type": "code",
   "execution_count": 7,
   "metadata": {},
   "outputs": [
    {
     "data": {
      "text/plain": [
       "312.7583333333333"
      ]
     },
     "execution_count": 7,
     "metadata": {},
     "output_type": "execute_result"
    }
   ],
   "source": [
    "m3b.objective.value/24"
   ]
  },
  {
   "cell_type": "code",
   "execution_count": 8,
   "metadata": {},
   "outputs": [
    {
     "data": {
      "text/plain": [
       "count    24.000000\n",
       "mean     50.041667\n",
       "std      22.747153\n",
       "min       0.000000\n",
       "25%      60.000000\n",
       "50%      60.000000\n",
       "75%      60.000000\n",
       "max      60.000000\n",
       "Name: energy_balance, dtype: float64"
      ]
     },
     "execution_count": 8,
     "metadata": {},
     "output_type": "execute_result"
    }
   ],
   "source": [
    "m3b.dual.energy_balance.to_pandas().describe()"
   ]
  },
  {
   "cell_type": "markdown",
   "metadata": {},
   "source": [
    "Plot the electricity prices from 2c and 3b. Recreate or copy the results from 2c."
   ]
  },
  {
   "cell_type": "markdown",
   "metadata": {},
   "source": []
  },
  {
   "cell_type": "code",
   "execution_count": 9,
   "metadata": {},
   "outputs": [
    {
     "name": "stdout",
     "output_type": "stream",
     "text": [
      "Set parameter Username\n",
      "Set parameter LicenseID to value 2609678\n",
      "Academic license - for non-commercial use only - expires 2026-01-14\n",
      "Read LP format model from file /private/var/folders/zg/by4_k0616s98pw41wld9475c0000gp/T/linopy-problem-4fs61uw6.lp\n",
      "Reading time = 0.00 seconds\n",
      "obj: 144 rows, 72 columns, 192 nonzeros\n",
      "Gurobi Optimizer version 12.0.0 build v12.0.0rc1 (mac64[arm] - Darwin 24.2.0 24C101)\n",
      "\n",
      "CPU model: Apple M3\n",
      "Thread count: 8 physical cores, 8 logical processors, using up to 8 threads\n",
      "\n",
      "Optimize a model with 144 rows, 72 columns and 192 nonzeros\n",
      "Model fingerprint: 0x753455ff\n",
      "Coefficient statistics:\n",
      "  Matrix range     [1e+00, 1e+00]\n",
      "  Objective range  [6e+01, 6e+01]\n",
      "  Bounds range     [0e+00, 0e+00]\n",
      "  RHS range        [6e-01, 2e+01]\n",
      "Presolve removed 144 rows and 72 columns\n",
      "Presolve time: 0.00s\n",
      "Presolve: All rows and columns removed\n",
      "Iteration    Objective       Primal Inf.    Dual Inf.      Time\n",
      "       0    7.6950000e+03   0.000000e+00   0.000000e+00      0s\n",
      "\n",
      "Solved in 0 iterations and 0.00 seconds (0.00 work units)\n",
      "Optimal objective  7.695000000e+03\n"
     ]
    },
    {
     "data": {
      "text/html": [
       "<div><svg style=\"position: absolute; width: 0; height: 0; overflow: hidden\">\n",
       "<defs>\n",
       "<symbol id=\"icon-database\" viewBox=\"0 0 32 32\">\n",
       "<path d=\"M16 0c-8.837 0-16 2.239-16 5v4c0 2.761 7.163 5 16 5s16-2.239 16-5v-4c0-2.761-7.163-5-16-5z\"></path>\n",
       "<path d=\"M16 17c-8.837 0-16-2.239-16-5v6c0 2.761 7.163 5 16 5s16-2.239 16-5v-6c0 2.761-7.163 5-16 5z\"></path>\n",
       "<path d=\"M16 26c-8.837 0-16-2.239-16-5v6c0 2.761 7.163 5 16 5s16-2.239 16-5v-6c0 2.761-7.163 5-16 5z\"></path>\n",
       "</symbol>\n",
       "<symbol id=\"icon-file-text2\" viewBox=\"0 0 32 32\">\n",
       "<path d=\"M28.681 7.159c-0.694-0.947-1.662-2.053-2.724-3.116s-2.169-2.030-3.116-2.724c-1.612-1.182-2.393-1.319-2.841-1.319h-15.5c-1.378 0-2.5 1.121-2.5 2.5v27c0 1.378 1.122 2.5 2.5 2.5h23c1.378 0 2.5-1.122 2.5-2.5v-19.5c0-0.448-0.137-1.23-1.319-2.841zM24.543 5.457c0.959 0.959 1.712 1.825 2.268 2.543h-4.811v-4.811c0.718 0.556 1.584 1.309 2.543 2.268zM28 29.5c0 0.271-0.229 0.5-0.5 0.5h-23c-0.271 0-0.5-0.229-0.5-0.5v-27c0-0.271 0.229-0.5 0.5-0.5 0 0 15.499-0 15.5 0v7c0 0.552 0.448 1 1 1h7v19.5z\"></path>\n",
       "<path d=\"M23 26h-14c-0.552 0-1-0.448-1-1s0.448-1 1-1h14c0.552 0 1 0.448 1 1s-0.448 1-1 1z\"></path>\n",
       "<path d=\"M23 22h-14c-0.552 0-1-0.448-1-1s0.448-1 1-1h14c0.552 0 1 0.448 1 1s-0.448 1-1 1z\"></path>\n",
       "<path d=\"M23 18h-14c-0.552 0-1-0.448-1-1s0.448-1 1-1h14c0.552 0 1 0.448 1 1s-0.448 1-1 1z\"></path>\n",
       "</symbol>\n",
       "</defs>\n",
       "</svg>\n",
       "<style>/* CSS stylesheet for displaying xarray objects in jupyterlab.\n",
       " *\n",
       " */\n",
       "\n",
       ":root {\n",
       "  --xr-font-color0: var(--jp-content-font-color0, rgba(0, 0, 0, 1));\n",
       "  --xr-font-color2: var(--jp-content-font-color2, rgba(0, 0, 0, 0.54));\n",
       "  --xr-font-color3: var(--jp-content-font-color3, rgba(0, 0, 0, 0.38));\n",
       "  --xr-border-color: var(--jp-border-color2, #e0e0e0);\n",
       "  --xr-disabled-color: var(--jp-layout-color3, #bdbdbd);\n",
       "  --xr-background-color: var(--jp-layout-color0, white);\n",
       "  --xr-background-color-row-even: var(--jp-layout-color1, white);\n",
       "  --xr-background-color-row-odd: var(--jp-layout-color2, #eeeeee);\n",
       "}\n",
       "\n",
       "html[theme=\"dark\"],\n",
       "html[data-theme=\"dark\"],\n",
       "body[data-theme=\"dark\"],\n",
       "body.vscode-dark {\n",
       "  --xr-font-color0: rgba(255, 255, 255, 1);\n",
       "  --xr-font-color2: rgba(255, 255, 255, 0.54);\n",
       "  --xr-font-color3: rgba(255, 255, 255, 0.38);\n",
       "  --xr-border-color: #1f1f1f;\n",
       "  --xr-disabled-color: #515151;\n",
       "  --xr-background-color: #111111;\n",
       "  --xr-background-color-row-even: #111111;\n",
       "  --xr-background-color-row-odd: #313131;\n",
       "}\n",
       "\n",
       ".xr-wrap {\n",
       "  display: block !important;\n",
       "  min-width: 300px;\n",
       "  max-width: 700px;\n",
       "}\n",
       "\n",
       ".xr-text-repr-fallback {\n",
       "  /* fallback to plain text repr when CSS is not injected (untrusted notebook) */\n",
       "  display: none;\n",
       "}\n",
       "\n",
       ".xr-header {\n",
       "  padding-top: 6px;\n",
       "  padding-bottom: 6px;\n",
       "  margin-bottom: 4px;\n",
       "  border-bottom: solid 1px var(--xr-border-color);\n",
       "}\n",
       "\n",
       ".xr-header > div,\n",
       ".xr-header > ul {\n",
       "  display: inline;\n",
       "  margin-top: 0;\n",
       "  margin-bottom: 0;\n",
       "}\n",
       "\n",
       ".xr-obj-type,\n",
       ".xr-array-name {\n",
       "  margin-left: 2px;\n",
       "  margin-right: 10px;\n",
       "}\n",
       "\n",
       ".xr-obj-type {\n",
       "  color: var(--xr-font-color2);\n",
       "}\n",
       "\n",
       ".xr-sections {\n",
       "  padding-left: 0 !important;\n",
       "  display: grid;\n",
       "  grid-template-columns: 150px auto auto 1fr 0 20px 0 20px;\n",
       "}\n",
       "\n",
       ".xr-section-item {\n",
       "  display: contents;\n",
       "}\n",
       "\n",
       ".xr-section-item input {\n",
       "  display: inline-block;\n",
       "  opacity: 0;\n",
       "  height: 0;\n",
       "}\n",
       "\n",
       ".xr-section-item input + label {\n",
       "  color: var(--xr-disabled-color);\n",
       "}\n",
       "\n",
       ".xr-section-item input:enabled + label {\n",
       "  cursor: pointer;\n",
       "  color: var(--xr-font-color2);\n",
       "}\n",
       "\n",
       ".xr-section-item input:focus + label {\n",
       "  border: 2px solid var(--xr-font-color0);\n",
       "}\n",
       "\n",
       ".xr-section-item input:enabled + label:hover {\n",
       "  color: var(--xr-font-color0);\n",
       "}\n",
       "\n",
       ".xr-section-summary {\n",
       "  grid-column: 1;\n",
       "  color: var(--xr-font-color2);\n",
       "  font-weight: 500;\n",
       "}\n",
       "\n",
       ".xr-section-summary > span {\n",
       "  display: inline-block;\n",
       "  padding-left: 0.5em;\n",
       "}\n",
       "\n",
       ".xr-section-summary-in:disabled + label {\n",
       "  color: var(--xr-font-color2);\n",
       "}\n",
       "\n",
       ".xr-section-summary-in + label:before {\n",
       "  display: inline-block;\n",
       "  content: \"►\";\n",
       "  font-size: 11px;\n",
       "  width: 15px;\n",
       "  text-align: center;\n",
       "}\n",
       "\n",
       ".xr-section-summary-in:disabled + label:before {\n",
       "  color: var(--xr-disabled-color);\n",
       "}\n",
       "\n",
       ".xr-section-summary-in:checked + label:before {\n",
       "  content: \"▼\";\n",
       "}\n",
       "\n",
       ".xr-section-summary-in:checked + label > span {\n",
       "  display: none;\n",
       "}\n",
       "\n",
       ".xr-section-summary,\n",
       ".xr-section-inline-details {\n",
       "  padding-top: 4px;\n",
       "  padding-bottom: 4px;\n",
       "}\n",
       "\n",
       ".xr-section-inline-details {\n",
       "  grid-column: 2 / -1;\n",
       "}\n",
       "\n",
       ".xr-section-details {\n",
       "  display: none;\n",
       "  grid-column: 1 / -1;\n",
       "  margin-bottom: 5px;\n",
       "}\n",
       "\n",
       ".xr-section-summary-in:checked ~ .xr-section-details {\n",
       "  display: contents;\n",
       "}\n",
       "\n",
       ".xr-array-wrap {\n",
       "  grid-column: 1 / -1;\n",
       "  display: grid;\n",
       "  grid-template-columns: 20px auto;\n",
       "}\n",
       "\n",
       ".xr-array-wrap > label {\n",
       "  grid-column: 1;\n",
       "  vertical-align: top;\n",
       "}\n",
       "\n",
       ".xr-preview {\n",
       "  color: var(--xr-font-color3);\n",
       "}\n",
       "\n",
       ".xr-array-preview,\n",
       ".xr-array-data {\n",
       "  padding: 0 5px !important;\n",
       "  grid-column: 2;\n",
       "}\n",
       "\n",
       ".xr-array-data,\n",
       ".xr-array-in:checked ~ .xr-array-preview {\n",
       "  display: none;\n",
       "}\n",
       "\n",
       ".xr-array-in:checked ~ .xr-array-data,\n",
       ".xr-array-preview {\n",
       "  display: inline-block;\n",
       "}\n",
       "\n",
       ".xr-dim-list {\n",
       "  display: inline-block !important;\n",
       "  list-style: none;\n",
       "  padding: 0 !important;\n",
       "  margin: 0;\n",
       "}\n",
       "\n",
       ".xr-dim-list li {\n",
       "  display: inline-block;\n",
       "  padding: 0;\n",
       "  margin: 0;\n",
       "}\n",
       "\n",
       ".xr-dim-list:before {\n",
       "  content: \"(\";\n",
       "}\n",
       "\n",
       ".xr-dim-list:after {\n",
       "  content: \")\";\n",
       "}\n",
       "\n",
       ".xr-dim-list li:not(:last-child):after {\n",
       "  content: \",\";\n",
       "  padding-right: 5px;\n",
       "}\n",
       "\n",
       ".xr-has-index {\n",
       "  font-weight: bold;\n",
       "}\n",
       "\n",
       ".xr-var-list,\n",
       ".xr-var-item {\n",
       "  display: contents;\n",
       "}\n",
       "\n",
       ".xr-var-item > div,\n",
       ".xr-var-item label,\n",
       ".xr-var-item > .xr-var-name span {\n",
       "  background-color: var(--xr-background-color-row-even);\n",
       "  margin-bottom: 0;\n",
       "}\n",
       "\n",
       ".xr-var-item > .xr-var-name:hover span {\n",
       "  padding-right: 5px;\n",
       "}\n",
       "\n",
       ".xr-var-list > li:nth-child(odd) > div,\n",
       ".xr-var-list > li:nth-child(odd) > label,\n",
       ".xr-var-list > li:nth-child(odd) > .xr-var-name span {\n",
       "  background-color: var(--xr-background-color-row-odd);\n",
       "}\n",
       "\n",
       ".xr-var-name {\n",
       "  grid-column: 1;\n",
       "}\n",
       "\n",
       ".xr-var-dims {\n",
       "  grid-column: 2;\n",
       "}\n",
       "\n",
       ".xr-var-dtype {\n",
       "  grid-column: 3;\n",
       "  text-align: right;\n",
       "  color: var(--xr-font-color2);\n",
       "}\n",
       "\n",
       ".xr-var-preview {\n",
       "  grid-column: 4;\n",
       "}\n",
       "\n",
       ".xr-index-preview {\n",
       "  grid-column: 2 / 5;\n",
       "  color: var(--xr-font-color2);\n",
       "}\n",
       "\n",
       ".xr-var-name,\n",
       ".xr-var-dims,\n",
       ".xr-var-dtype,\n",
       ".xr-preview,\n",
       ".xr-attrs dt {\n",
       "  white-space: nowrap;\n",
       "  overflow: hidden;\n",
       "  text-overflow: ellipsis;\n",
       "  padding-right: 10px;\n",
       "}\n",
       "\n",
       ".xr-var-name:hover,\n",
       ".xr-var-dims:hover,\n",
       ".xr-var-dtype:hover,\n",
       ".xr-attrs dt:hover {\n",
       "  overflow: visible;\n",
       "  width: auto;\n",
       "  z-index: 1;\n",
       "}\n",
       "\n",
       ".xr-var-attrs,\n",
       ".xr-var-data,\n",
       ".xr-index-data {\n",
       "  display: none;\n",
       "  background-color: var(--xr-background-color) !important;\n",
       "  padding-bottom: 5px !important;\n",
       "}\n",
       "\n",
       ".xr-var-attrs-in:checked ~ .xr-var-attrs,\n",
       ".xr-var-data-in:checked ~ .xr-var-data,\n",
       ".xr-index-data-in:checked ~ .xr-index-data {\n",
       "  display: block;\n",
       "}\n",
       "\n",
       ".xr-var-data > table {\n",
       "  float: right;\n",
       "}\n",
       "\n",
       ".xr-var-name span,\n",
       ".xr-var-data,\n",
       ".xr-index-name div,\n",
       ".xr-index-data,\n",
       ".xr-attrs {\n",
       "  padding-left: 25px !important;\n",
       "}\n",
       "\n",
       ".xr-attrs,\n",
       ".xr-var-attrs,\n",
       ".xr-var-data,\n",
       ".xr-index-data {\n",
       "  grid-column: 1 / -1;\n",
       "}\n",
       "\n",
       "dl.xr-attrs {\n",
       "  padding: 0;\n",
       "  margin: 0;\n",
       "  display: grid;\n",
       "  grid-template-columns: 125px auto;\n",
       "}\n",
       "\n",
       ".xr-attrs dt,\n",
       ".xr-attrs dd {\n",
       "  padding: 0;\n",
       "  margin: 0;\n",
       "  float: left;\n",
       "  padding-right: 10px;\n",
       "  width: auto;\n",
       "}\n",
       "\n",
       ".xr-attrs dt {\n",
       "  font-weight: normal;\n",
       "  grid-column: 1;\n",
       "}\n",
       "\n",
       ".xr-attrs dt:hover span {\n",
       "  display: inline-block;\n",
       "  background: var(--xr-background-color);\n",
       "  padding-right: 10px;\n",
       "}\n",
       "\n",
       ".xr-attrs dd {\n",
       "  grid-column: 2;\n",
       "  white-space: pre-wrap;\n",
       "  word-break: break-all;\n",
       "}\n",
       "\n",
       ".xr-icon-database,\n",
       ".xr-icon-file-text2,\n",
       ".xr-no-icon {\n",
       "  display: inline-block;\n",
       "  vertical-align: middle;\n",
       "  width: 1em;\n",
       "  height: 1.5em !important;\n",
       "  stroke-width: 0;\n",
       "  stroke: currentColor;\n",
       "  fill: currentColor;\n",
       "}\n",
       "</style><pre class='xr-text-repr-fallback'>&lt;xarray.Dataset&gt; Size: 768B\n",
       "Dimensions:  (dim_0: 24)\n",
       "Coordinates:\n",
       "  * dim_0    (dim_0) datetime64[ns] 192B 2020-07-01 ... 2020-07-01T23:00:00\n",
       "Data variables:\n",
       "    wind     (dim_0) float64 192B 5.85 6.45 6.15 5.85 5.4 ... 5.7 6.15 6.3 6.9\n",
       "    solar    (dim_0) float64 192B 0.0 0.0 0.0 0.0 0.0 ... 0.6 0.0 0.0 0.0 0.0\n",
       "    gas      (dim_0) float64 192B 4.95 3.95 4.25 4.35 4.6 ... 7.9 6.45 5.5 4.5</pre><div class='xr-wrap' style='display:none'><div class='xr-header'><div class='xr-obj-type'>xarray.Dataset</div></div><ul class='xr-sections'><li class='xr-section-item'><input id='section-69193e8e-6013-442d-9612-d56d6de47def' class='xr-section-summary-in' type='checkbox' disabled ><label for='section-69193e8e-6013-442d-9612-d56d6de47def' class='xr-section-summary'  title='Expand/collapse section'>Dimensions:</label><div class='xr-section-inline-details'><ul class='xr-dim-list'><li><span class='xr-has-index'>dim_0</span>: 24</li></ul></div><div class='xr-section-details'></div></li><li class='xr-section-item'><input id='section-8a3daac0-9736-40f6-be79-ad3d9307f53e' class='xr-section-summary-in' type='checkbox'  checked><label for='section-8a3daac0-9736-40f6-be79-ad3d9307f53e' class='xr-section-summary' >Coordinates: <span>(1)</span></label><div class='xr-section-inline-details'></div><div class='xr-section-details'><ul class='xr-var-list'><li class='xr-var-item'><div class='xr-var-name'><span class='xr-has-index'>dim_0</span></div><div class='xr-var-dims'>(dim_0)</div><div class='xr-var-dtype'>datetime64[ns]</div><div class='xr-var-preview xr-preview'>2020-07-01 ... 2020-07-01T23:00:00</div><input id='attrs-c1a1e204-b405-45b6-a2af-0b02744428bc' class='xr-var-attrs-in' type='checkbox' disabled><label for='attrs-c1a1e204-b405-45b6-a2af-0b02744428bc' title='Show/Hide attributes'><svg class='icon xr-icon-file-text2'><use xlink:href='#icon-file-text2'></use></svg></label><input id='data-c70d05c4-47e1-4cb7-a555-ab9cf98a37f1' class='xr-var-data-in' type='checkbox'><label for='data-c70d05c4-47e1-4cb7-a555-ab9cf98a37f1' title='Show/Hide data repr'><svg class='icon xr-icon-database'><use xlink:href='#icon-database'></use></svg></label><div class='xr-var-attrs'><dl class='xr-attrs'></dl></div><div class='xr-var-data'><pre>array([&#x27;2020-07-01T00:00:00.000000000&#x27;, &#x27;2020-07-01T01:00:00.000000000&#x27;,\n",
       "       &#x27;2020-07-01T02:00:00.000000000&#x27;, &#x27;2020-07-01T03:00:00.000000000&#x27;,\n",
       "       &#x27;2020-07-01T04:00:00.000000000&#x27;, &#x27;2020-07-01T05:00:00.000000000&#x27;,\n",
       "       &#x27;2020-07-01T06:00:00.000000000&#x27;, &#x27;2020-07-01T07:00:00.000000000&#x27;,\n",
       "       &#x27;2020-07-01T08:00:00.000000000&#x27;, &#x27;2020-07-01T09:00:00.000000000&#x27;,\n",
       "       &#x27;2020-07-01T10:00:00.000000000&#x27;, &#x27;2020-07-01T11:00:00.000000000&#x27;,\n",
       "       &#x27;2020-07-01T12:00:00.000000000&#x27;, &#x27;2020-07-01T13:00:00.000000000&#x27;,\n",
       "       &#x27;2020-07-01T14:00:00.000000000&#x27;, &#x27;2020-07-01T15:00:00.000000000&#x27;,\n",
       "       &#x27;2020-07-01T16:00:00.000000000&#x27;, &#x27;2020-07-01T17:00:00.000000000&#x27;,\n",
       "       &#x27;2020-07-01T18:00:00.000000000&#x27;, &#x27;2020-07-01T19:00:00.000000000&#x27;,\n",
       "       &#x27;2020-07-01T20:00:00.000000000&#x27;, &#x27;2020-07-01T21:00:00.000000000&#x27;,\n",
       "       &#x27;2020-07-01T22:00:00.000000000&#x27;, &#x27;2020-07-01T23:00:00.000000000&#x27;],\n",
       "      dtype=&#x27;datetime64[ns]&#x27;)</pre></div></li></ul></div></li><li class='xr-section-item'><input id='section-2022026c-be7a-4cd4-a189-7d2bc16978ca' class='xr-section-summary-in' type='checkbox'  checked><label for='section-2022026c-be7a-4cd4-a189-7d2bc16978ca' class='xr-section-summary' >Data variables: <span>(3)</span></label><div class='xr-section-inline-details'></div><div class='xr-section-details'><ul class='xr-var-list'><li class='xr-var-item'><div class='xr-var-name'><span>wind</span></div><div class='xr-var-dims'>(dim_0)</div><div class='xr-var-dtype'>float64</div><div class='xr-var-preview xr-preview'>5.85 6.45 6.15 ... 6.15 6.3 6.9</div><input id='attrs-a951cb3a-12b7-4a93-a818-0ce342914107' class='xr-var-attrs-in' type='checkbox' disabled><label for='attrs-a951cb3a-12b7-4a93-a818-0ce342914107' title='Show/Hide attributes'><svg class='icon xr-icon-file-text2'><use xlink:href='#icon-file-text2'></use></svg></label><input id='data-25ff251b-cae3-4cbd-99f8-87f3ae7bcb13' class='xr-var-data-in' type='checkbox'><label for='data-25ff251b-cae3-4cbd-99f8-87f3ae7bcb13' title='Show/Hide data repr'><svg class='icon xr-icon-database'><use xlink:href='#icon-database'></use></svg></label><div class='xr-var-attrs'><dl class='xr-attrs'></dl></div><div class='xr-var-data'><pre>array([5.85, 6.45, 6.15, 5.85, 5.4 , 4.95, 4.35, 3.45, 3.75, 2.7 , 4.8 ,\n",
       "       5.1 , 2.2 , 1.  , 5.1 , 3.9 , 4.35, 4.65, 5.25, 4.95, 5.7 , 6.15,\n",
       "       6.3 , 6.9 ])</pre></div></li><li class='xr-var-item'><div class='xr-var-name'><span>solar</span></div><div class='xr-var-dims'>(dim_0)</div><div class='xr-var-dtype'>float64</div><div class='xr-var-preview xr-preview'>0.0 0.0 0.0 0.0 ... 0.0 0.0 0.0 0.0</div><input id='attrs-3a611842-86f2-47c0-8199-63b6792d4e5c' class='xr-var-attrs-in' type='checkbox' disabled><label for='attrs-3a611842-86f2-47c0-8199-63b6792d4e5c' title='Show/Hide attributes'><svg class='icon xr-icon-file-text2'><use xlink:href='#icon-file-text2'></use></svg></label><input id='data-61f5f4f9-9ef2-4414-8550-c75c22d3fc25' class='xr-var-data-in' type='checkbox'><label for='data-61f5f4f9-9ef2-4414-8550-c75c22d3fc25' title='Show/Hide data repr'><svg class='icon xr-icon-database'><use xlink:href='#icon-database'></use></svg></label><div class='xr-var-attrs'><dl class='xr-attrs'></dl></div><div class='xr-var-data'><pre>array([ 0. ,  0. ,  0. ,  0. ,  0. ,  0. ,  0.6,  1.4,  2.4,  3.8,  2.6,\n",
       "        7. , 10.8, 12.2,  9.1,  9.4,  7. ,  5.8,  3. ,  0.6,  0. ,  0. ,\n",
       "        0. ,  0. ])</pre></div></li><li class='xr-var-item'><div class='xr-var-name'><span>gas</span></div><div class='xr-var-dims'>(dim_0)</div><div class='xr-var-dtype'>float64</div><div class='xr-var-preview xr-preview'>4.95 3.95 4.25 ... 6.45 5.5 4.5</div><input id='attrs-8e82a007-3ca0-4926-a628-52481ec548c3' class='xr-var-attrs-in' type='checkbox' disabled><label for='attrs-8e82a007-3ca0-4926-a628-52481ec548c3' title='Show/Hide attributes'><svg class='icon xr-icon-file-text2'><use xlink:href='#icon-file-text2'></use></svg></label><input id='data-6152afa6-3680-4c44-a2c1-33be6ea8d58c' class='xr-var-data-in' type='checkbox'><label for='data-6152afa6-3680-4c44-a2c1-33be6ea8d58c' title='Show/Hide data repr'><svg class='icon xr-icon-database'><use xlink:href='#icon-database'></use></svg></label><div class='xr-var-attrs'><dl class='xr-attrs'></dl></div><div class='xr-var-data'><pre>array([4.95, 3.95, 4.25, 4.35, 4.6 , 6.45, 7.05, 9.15, 9.45, 7.9 , 6.6 ,\n",
       "       1.5 , 0.  , 0.  , 0.  , 2.7 , 6.05, 7.75, 8.15, 9.05, 7.9 , 6.45,\n",
       "       5.5 , 4.5 ])</pre></div></li></ul></div></li><li class='xr-section-item'><input id='section-51352551-201c-4ec1-8714-f8755ddfbf83' class='xr-section-summary-in' type='checkbox'  ><label for='section-51352551-201c-4ec1-8714-f8755ddfbf83' class='xr-section-summary' >Indexes: <span>(1)</span></label><div class='xr-section-inline-details'></div><div class='xr-section-details'><ul class='xr-var-list'><li class='xr-var-item'><div class='xr-index-name'><div>dim_0</div></div><div class='xr-index-preview'>PandasIndex</div><input type='checkbox' disabled/><label></label><input id='index-6229901a-9f2c-4f70-bf7d-7b35e20f38a8' class='xr-index-data-in' type='checkbox'/><label for='index-6229901a-9f2c-4f70-bf7d-7b35e20f38a8' title='Show/Hide index repr'><svg class='icon xr-icon-database'><use xlink:href='#icon-database'></use></svg></label><div class='xr-index-data'><pre>PandasIndex(DatetimeIndex([&#x27;2020-07-01 00:00:00&#x27;, &#x27;2020-07-01 01:00:00&#x27;,\n",
       "               &#x27;2020-07-01 02:00:00&#x27;, &#x27;2020-07-01 03:00:00&#x27;,\n",
       "               &#x27;2020-07-01 04:00:00&#x27;, &#x27;2020-07-01 05:00:00&#x27;,\n",
       "               &#x27;2020-07-01 06:00:00&#x27;, &#x27;2020-07-01 07:00:00&#x27;,\n",
       "               &#x27;2020-07-01 08:00:00&#x27;, &#x27;2020-07-01 09:00:00&#x27;,\n",
       "               &#x27;2020-07-01 10:00:00&#x27;, &#x27;2020-07-01 11:00:00&#x27;,\n",
       "               &#x27;2020-07-01 12:00:00&#x27;, &#x27;2020-07-01 13:00:00&#x27;,\n",
       "               &#x27;2020-07-01 14:00:00&#x27;, &#x27;2020-07-01 15:00:00&#x27;,\n",
       "               &#x27;2020-07-01 16:00:00&#x27;, &#x27;2020-07-01 17:00:00&#x27;,\n",
       "               &#x27;2020-07-01 18:00:00&#x27;, &#x27;2020-07-01 19:00:00&#x27;,\n",
       "               &#x27;2020-07-01 20:00:00&#x27;, &#x27;2020-07-01 21:00:00&#x27;,\n",
       "               &#x27;2020-07-01 22:00:00&#x27;, &#x27;2020-07-01 23:00:00&#x27;],\n",
       "              dtype=&#x27;datetime64[ns]&#x27;, name=&#x27;dim_0&#x27;, freq=None))</pre></div></li></ul></div></li><li class='xr-section-item'><input id='section-a98c565d-ba03-4fb4-8d53-645a4e219d09' class='xr-section-summary-in' type='checkbox' disabled ><label for='section-a98c565d-ba03-4fb4-8d53-645a4e219d09' class='xr-section-summary'  title='Expand/collapse section'>Attributes: <span>(0)</span></label><div class='xr-section-inline-details'></div><div class='xr-section-details'><dl class='xr-attrs'></dl></div></li></ul></div></div>"
      ],
      "text/plain": [
       "<xarray.Dataset> Size: 768B\n",
       "Dimensions:  (dim_0: 24)\n",
       "Coordinates:\n",
       "  * dim_0    (dim_0) datetime64[ns] 192B 2020-07-01 ... 2020-07-01T23:00:00\n",
       "Data variables:\n",
       "    wind     (dim_0) float64 192B 5.85 6.45 6.15 5.85 5.4 ... 5.7 6.15 6.3 6.9\n",
       "    solar    (dim_0) float64 192B 0.0 0.0 0.0 0.0 0.0 ... 0.6 0.0 0.0 0.0 0.0\n",
       "    gas      (dim_0) float64 192B 4.95 3.95 4.25 4.35 4.6 ... 7.9 6.45 5.5 4.5"
      ]
     },
     "execution_count": 9,
     "metadata": {},
     "output_type": "execute_result"
    }
   ],
   "source": [
    "# Recreate the model from 2c\n",
    "m22c = linopy.Model()\n",
    "\n",
    "# Define variables\n",
    "time = problem2c.index\n",
    "\n",
    "x_w = m22c.add_variables(lower=0,name=\"wind\", coords=[time])\n",
    "x_s = m22c.add_variables(lower=0,name=\"solar\", coords=[time])\n",
    "x_g = m22c.add_variables(lower=0,name=\"gas\", coords=[time])\n",
    "\n",
    "# Define constraints\n",
    "m22c.add_constraints(x_w + x_s + x_g == problem2c[\"demand [MWh]\"], name=\"energy_balance\")\n",
    "m22c.add_constraints(x_g <= gas, name=\"gas_cap\")\n",
    "\n",
    "m22c.add_constraints(x_w <= wind * problem2c[\"wind cf\"], name=\"wind_cf\")\n",
    "m22c.add_constraints(x_s <= solar * problem2c[\"solar cf\"], name=\"solar_cf\")\n",
    "\n",
    "# Optional:\n",
    "m22c.add_constraints(x_w <= wind, name=\"wind_cap\")\n",
    "m22c.add_constraints(x_s <= solar, name=\"solar_cap\")\n",
    "\n",
    "# Objective\n",
    "m22c.add_objective(cost_gas*x_g, sense = \"min\")\n",
    "\n",
    "# Solve\n",
    "m22c.solve(solver_name=\"gurobi\")\n",
    "\n",
    "m22c.solution\n"
   ]
  },
  {
   "cell_type": "code",
   "execution_count": 10,
   "metadata": {},
   "outputs": [
    {
     "data": {
      "text/plain": [
       "[<matplotlib.lines.Line2D at 0x150fddfd0>]"
      ]
     },
     "execution_count": 10,
     "metadata": {},
     "output_type": "execute_result"
    },
    {
     "data": {
      "image/png": "[encoded data removed]",
      "text/plain": [
       "<Figure size 640x480 with 1 Axes>"
      ]
     },
     "metadata": {},
     "output_type": "display_data"
    }
   ],
   "source": [
    "fig, ax = plt.subplots()\n",
    "\n",
    "ax.plot(m3b.dual.energy_balance, label=\"Electricity price (3b)\")\n",
    "ax.plot(m22c.dual.energy_balance, label=\"Electricity price (2c)\")"
   ]
  }
 ],
 "metadata": {
  "kernelspec": {
   "display_name": "integrated-energy-grids",
   "language": "python",
   "name": "python3"
  },
  "language_info": {
   "codemirror_mode": {
    "name": "ipython",
    "version": 3
   },
   "file_extension": ".py",
   "mimetype": "text/x-python",
   "name": "python",
   "nbconvert_exporter": "python",
   "pygments_lexer": "ipython3",
   "version": "3.12.8"
  }
 },
 "nbformat": 4,
 "nbformat_minor": 2
}
